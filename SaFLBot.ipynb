{
 "cells": [
  {
   "cell_type": "code",
   "execution_count": 1,
   "metadata": {},
   "outputs": [],
   "source": [
    "import requests\n",
    "import os"
   ]
  },
  {
   "cell_type": "code",
   "execution_count": 2,
   "metadata": {},
   "outputs": [],
   "source": [
    "import discord"
   ]
  },
  {
   "cell_type": "code",
   "execution_count": 3,
   "metadata": {},
   "outputs": [],
   "source": [
    "import nest_asyncio\n",
    "nest_asyncio.apply()"
   ]
  },
  {
   "cell_type": "code",
   "execution_count": null,
   "metadata": {},
   "outputs": [
    {
     "name": "stdout",
     "output_type": "stream",
     "text": [
      "SaFL#8618 is ready\n"
     ]
    }
   ],
   "source": [
    "client = discord.Client()\n",
    "\n",
    "def jisho_lookup(word):\n",
    "    data = requests.get('https://jisho.org/api/v1/search/words?keyword=' + word).json()\n",
    "    return data[\"data\"]\n",
    "\n",
    "def generate_jembed(word):\n",
    "    if \"is_common\" not in word:\n",
    "        return None\n",
    "    meanings = \"\";\n",
    "    pos = \"\";\n",
    "    if word[\"senses\"][0][\"parts_of_speech\"]:\n",
    "        pos = \" (\";\n",
    "        for p in range(len(word[\"senses\"][0][\"parts_of_speech\"]) - 1):\n",
    "            pos = pos + word[\"senses\"][0][\"parts_of_speech\"][p] + \", \"\n",
    "        pos = pos + word[\"senses\"][0][\"parts_of_speech\"][-1] + \")\"\n",
    "    if word[\"senses\"][0][\"english_definitions\"]:\n",
    "        for m in range(len(word[\"senses\"][0][\"english_definitions\"]) - 1):\n",
    "            meanings = meanings + word[\"senses\"][0][\"english_definitions\"][m] + \"; \"\n",
    "        meanings = meanings + word[\"senses\"][0][\"english_definitions\"][-1]\n",
    "    embed = discord.Embed(title = word[\"slug\"], description = word[\"japanese\"][0][\"reading\"], color=0x00ff00 if word[\"is_common\"] else 0xffff00)\n",
    "    embed.add_field(name = \"Meanings\" + pos, value = meanings, inline=False)\n",
    "    embed.add_field(name = \"Difficulty\", value = word[\"jlpt\"][0] if word[\"jlpt\"] else \"-\", inline=False)\n",
    "    return embed\n",
    "\n",
    "@client.event\n",
    "async def on_ready():\n",
    "  print(\"{0} is ready\".format(client.user))\n",
    "\n",
    "@client.event\n",
    "async def on_message(message):\n",
    "  if message.author == client.user:\n",
    "    return\n",
    "  \n",
    "  if message.content.startswith('>d '):\n",
    "    try:\n",
    "        word = jisho_lookup(message.content[3:].lower())[0]\n",
    "        em = generate_jembed(word)\n",
    "        if em:\n",
    "            await message.channel.send(embed = em)\n",
    "    except:\n",
    "        await message.channel.send('Sorry, no results :[ Try splitting up the word(s) or spell things correctly')\n",
    "  elif message.content.startswith('>da'):\n",
    "    try:\n",
    "        words = jisho_lookup(message.content[4:].lower())\n",
    "        for word in words:\n",
    "            em = generate_jembed(word)\n",
    "            if em:\n",
    "                await message.channel.send(embed = em)\n",
    "    except IndexError:\n",
    "        await message.channel.send('Sorry, no results :[ Try splitting up the word(s) or spell things correctly')\n",
    "  elif message.content.startswith('>d'):\n",
    "    parts = message.content.split(\" \", 1)\n",
    "    n = int(parts[0][2:])\n",
    "    if n>0:\n",
    "        try:\n",
    "            words = jisho_lookup(parts[1].lower())\n",
    "            for word in words:\n",
    "                if n<=0:\n",
    "                    break\n",
    "                em = generate_jembed(word)\n",
    "                if em:\n",
    "                    await message.channel.send(embed = em)\n",
    "                    n = n - 1\n",
    "        except IndexError:\n",
    "            await message.channel.send('Sorry, no results :[ Try splitting up the word(s) or spell things correctly')\n",
    "    else:\n",
    "        await message.channel.send(\"Bruh\")\n",
    "  if message.content.startswith('>h'):\n",
    "    em = discord.Embed(title=\"SaFL Bot Commands\", description=\"Find out what I can do!\", color=0x0000ff)\n",
    "    em.add_field(name=\"Dictionary\",\n",
    "                 value=\"`>d [word]` for the first result\\n`>dn [word]` for the first n results\\n`>da [word]` for all results. *WARNING: Might cause spam. Use sparingly*\\n\\nTip: Green border? Commonly used word! Yellow? Not so much. Try peeking at the first 2 results of \\\"kazoku\\\"  ( `>d2 kazoku` )\",\n",
    "                 inline=False)\n",
    "    await message.channel.send(embed=em)\n",
    "\n",
    "client.run('secret-key')"
   ]
  },
  {
   "cell_type": "code",
   "execution_count": null,
   "metadata": {},
   "outputs": [],
   "source": []
  }
 ],
 "metadata": {
  "kernelspec": {
   "display_name": "Python 3",
   "language": "python",
   "name": "python3"
  },
  "language_info": {
   "codemirror_mode": {
    "name": "ipython",
    "version": 3
   },
   "file_extension": ".py",
   "mimetype": "text/x-python",
   "name": "python",
   "nbconvert_exporter": "python",
   "pygments_lexer": "ipython3",
   "version": "3.7.8"
  }
 },
 "nbformat": 4,
 "nbformat_minor": 4
}
